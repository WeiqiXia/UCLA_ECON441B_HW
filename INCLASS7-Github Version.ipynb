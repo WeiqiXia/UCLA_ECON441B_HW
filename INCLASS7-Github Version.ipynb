{
 "cells": [
  {
   "cell_type": "markdown",
   "metadata": {},
   "source": [
    "# ECON441B-Intro to ML Lab"
   ]
  },
  {
   "cell_type": "markdown",
   "metadata": {},
   "source": [
    "## Weiqi Xia"
   ]
  },
  {
   "cell_type": "markdown",
   "metadata": {},
   "source": [
    "## Github Repository Link: "
   ]
  },
  {
   "cell_type": "code",
   "execution_count": 1,
   "metadata": {
    "colab": {
     "base_uri": "https://localhost:8080/"
    },
    "id": "N11Ee3GJmywu",
    "outputId": "bec5c5ec-7d31-4bf4-e944-98ca0dc42eb5"
   },
   "outputs": [
    {
     "name": "stdout",
     "output_type": "stream",
     "text": [
      "Collecting openai\n",
      "  Downloading openai-1.12.0-py3-none-any.whl (226 kB)\n",
      "\u001b[2K     \u001b[90m━━━━━━━━━━━━━━━━━━━━━━━━━━━━━━━━━━━━━━━━\u001b[0m \u001b[32m226.7/226.7 kB\u001b[0m \u001b[31m3.4 MB/s\u001b[0m eta \u001b[36m0:00:00\u001b[0m\n",
      "\u001b[?25hCollecting wikipedia\n",
      "  Downloading wikipedia-1.4.0.tar.gz (27 kB)\n",
      "  Preparing metadata (setup.py) ... \u001b[?25l\u001b[?25hdone\n",
      "Requirement already satisfied: anyio<5,>=3.5.0 in /usr/local/lib/python3.10/dist-packages (from openai) (3.7.1)\n",
      "Requirement already satisfied: distro<2,>=1.7.0 in /usr/lib/python3/dist-packages (from openai) (1.7.0)\n",
      "Collecting httpx<1,>=0.23.0 (from openai)\n",
      "  Downloading httpx-0.27.0-py3-none-any.whl (75 kB)\n",
      "\u001b[2K     \u001b[90m━━━━━━━━━━━━━━━━━━━━━━━━━━━━━━━━━━━━━━━━\u001b[0m \u001b[32m75.6/75.6 kB\u001b[0m \u001b[31m9.2 MB/s\u001b[0m eta \u001b[36m0:00:00\u001b[0m\n",
      "\u001b[?25hRequirement already satisfied: pydantic<3,>=1.9.0 in /usr/local/lib/python3.10/dist-packages (from openai) (2.6.1)\n",
      "Requirement already satisfied: sniffio in /usr/local/lib/python3.10/dist-packages (from openai) (1.3.0)\n",
      "Requirement already satisfied: tqdm>4 in /usr/local/lib/python3.10/dist-packages (from openai) (4.66.2)\n",
      "Requirement already satisfied: typing-extensions<5,>=4.7 in /usr/local/lib/python3.10/dist-packages (from openai) (4.9.0)\n",
      "Requirement already satisfied: beautifulsoup4 in /usr/local/lib/python3.10/dist-packages (from wikipedia) (4.12.3)\n",
      "Requirement already satisfied: requests<3.0.0,>=2.0.0 in /usr/local/lib/python3.10/dist-packages (from wikipedia) (2.31.0)\n",
      "Requirement already satisfied: idna>=2.8 in /usr/local/lib/python3.10/dist-packages (from anyio<5,>=3.5.0->openai) (3.6)\n",
      "Requirement already satisfied: exceptiongroup in /usr/local/lib/python3.10/dist-packages (from anyio<5,>=3.5.0->openai) (1.2.0)\n",
      "Requirement already satisfied: certifi in /usr/local/lib/python3.10/dist-packages (from httpx<1,>=0.23.0->openai) (2024.2.2)\n",
      "Collecting httpcore==1.* (from httpx<1,>=0.23.0->openai)\n",
      "  Downloading httpcore-1.0.4-py3-none-any.whl (77 kB)\n",
      "\u001b[2K     \u001b[90m━━━━━━━━━━━━━━━━━━━━━━━━━━━━━━━━━━━━━━━━\u001b[0m \u001b[32m77.8/77.8 kB\u001b[0m \u001b[31m4.9 MB/s\u001b[0m eta \u001b[36m0:00:00\u001b[0m\n",
      "\u001b[?25hCollecting h11<0.15,>=0.13 (from httpcore==1.*->httpx<1,>=0.23.0->openai)\n",
      "  Downloading h11-0.14.0-py3-none-any.whl (58 kB)\n",
      "\u001b[2K     \u001b[90m━━━━━━━━━━━━━━━━━━━━━━━━━━━━━━━━━━━━━━━━\u001b[0m \u001b[32m58.3/58.3 kB\u001b[0m \u001b[31m7.5 MB/s\u001b[0m eta \u001b[36m0:00:00\u001b[0m\n",
      "\u001b[?25hRequirement already satisfied: annotated-types>=0.4.0 in /usr/local/lib/python3.10/dist-packages (from pydantic<3,>=1.9.0->openai) (0.6.0)\n",
      "Requirement already satisfied: pydantic-core==2.16.2 in /usr/local/lib/python3.10/dist-packages (from pydantic<3,>=1.9.0->openai) (2.16.2)\n",
      "Requirement already satisfied: charset-normalizer<4,>=2 in /usr/local/lib/python3.10/dist-packages (from requests<3.0.0,>=2.0.0->wikipedia) (3.3.2)\n",
      "Requirement already satisfied: urllib3<3,>=1.21.1 in /usr/local/lib/python3.10/dist-packages (from requests<3.0.0,>=2.0.0->wikipedia) (2.0.7)\n",
      "Requirement already satisfied: soupsieve>1.2 in /usr/local/lib/python3.10/dist-packages (from beautifulsoup4->wikipedia) (2.5)\n",
      "Building wheels for collected packages: wikipedia\n",
      "  Building wheel for wikipedia (setup.py) ... \u001b[?25l\u001b[?25hdone\n",
      "  Created wheel for wikipedia: filename=wikipedia-1.4.0-py3-none-any.whl size=11678 sha256=2585acfe9be7da7725f4d2dd91fefc917d736fc40221949e6b897a1b89391d48\n",
      "  Stored in directory: /root/.cache/pip/wheels/5e/b6/c5/93f3dec388ae76edc830cb42901bb0232504dfc0df02fc50de\n",
      "Successfully built wikipedia\n",
      "Installing collected packages: h11, wikipedia, httpcore, httpx, openai\n",
      "Successfully installed h11-0.14.0 httpcore-1.0.4 httpx-0.27.0 openai-1.12.0 wikipedia-1.4.0\n"
     ]
    }
   ],
   "source": [
    "pip install openai wikipedia"
   ]
  },
  {
   "cell_type": "code",
   "execution_count": 2,
   "metadata": {
    "id": "Q2A8TGhKm3i5"
   },
   "outputs": [],
   "source": [
    "import openai\n",
    "import os\n",
    "import wikipedia"
   ]
  },
  {
   "cell_type": "markdown",
   "metadata": {
    "id": "7E9HEMJSX-3T"
   },
   "source": [
    "# 1.) Set up OpenAI and the enviornment\n"
   ]
  },
  {
   "cell_type": "code",
   "execution_count": null,
   "metadata": {
    "id": "4zwwdkZDYDZN"
   },
   "outputs": [],
   "source": [
    "# DONE"
   ]
  },
  {
   "cell_type": "code",
   "execution_count": 3,
   "metadata": {
    "id": "8IiKS0snlpYP"
   },
   "outputs": [],
   "source": [
    "api_key = \"***************************************\""
   ]
  },
  {
   "cell_type": "code",
   "execution_count": 4,
   "metadata": {
    "id": "pjP6X8scPXre"
   },
   "outputs": [],
   "source": [
    "openai.api_key = api_key"
   ]
  },
  {
   "cell_type": "code",
   "execution_count": 5,
   "metadata": {
    "id": "pwMDXssNQY2A"
   },
   "outputs": [],
   "source": [
    "client = openai.OpenAI(\n",
    "    api_key = openai.api_key\n",
    ")"
   ]
  },
  {
   "cell_type": "markdown",
   "metadata": {
    "id": "tOXc5_BTm9HP"
   },
   "source": [
    "# 2.) Use the wikipedia api to get a function that pulls in the text of a wikipedia page"
   ]
  },
  {
   "cell_type": "code",
   "execution_count": 6,
   "metadata": {
    "id": "-v7OYamHlrEB"
   },
   "outputs": [],
   "source": [
    "page_titles = [\"Artificial Intelligence\", \"UCLA\"]"
   ]
  },
  {
   "cell_type": "code",
   "execution_count": 7,
   "metadata": {
    "id": "NrDPXm6aNPqQ"
   },
   "outputs": [],
   "source": [
    "page_title = page_titles[0]"
   ]
  },
  {
   "cell_type": "code",
   "execution_count": 8,
   "metadata": {
    "colab": {
     "base_uri": "https://localhost:8080/"
    },
    "id": "e0vz7RjcPtHS",
    "outputId": "555dc123-d49d-421a-de3b-fe2a79ec5bfc"
   },
   "outputs": [
    {
     "data": {
      "text/plain": [
       "['API_URL',\n",
       " 'BeautifulSoup',\n",
       " 'Decimal',\n",
       " 'DisambiguationError',\n",
       " 'HTTPTimeoutError',\n",
       " 'ODD_ERROR_MESSAGE',\n",
       " 'PageError',\n",
       " 'RATE_LIMIT',\n",
       " 'RATE_LIMIT_LAST_CALL',\n",
       " 'RATE_LIMIT_MIN_WAIT',\n",
       " 'RedirectError',\n",
       " 'USER_AGENT',\n",
       " 'WikipediaException',\n",
       " 'WikipediaPage',\n",
       " '__builtins__',\n",
       " '__cached__',\n",
       " '__doc__',\n",
       " '__file__',\n",
       " '__loader__',\n",
       " '__name__',\n",
       " '__package__',\n",
       " '__path__',\n",
       " '__spec__',\n",
       " '__version__',\n",
       " 'cache',\n",
       " 'datetime',\n",
       " 'debug',\n",
       " 'donate',\n",
       " 'exceptions',\n",
       " 'geosearch',\n",
       " 'languages',\n",
       " 'page',\n",
       " 'random',\n",
       " 're',\n",
       " 'requests',\n",
       " 'search',\n",
       " 'set_lang',\n",
       " 'set_rate_limiting',\n",
       " 'set_user_agent',\n",
       " 'stdout_encode',\n",
       " 'suggest',\n",
       " 'summary',\n",
       " 'sys',\n",
       " 'time',\n",
       " 'timedelta',\n",
       " 'unicode_literals',\n",
       " 'util',\n",
       " 'wikipedia']"
      ]
     },
     "execution_count": 8,
     "metadata": {},
     "output_type": "execute_result"
    }
   ],
   "source": [
    "dir(wikipedia)"
   ]
  },
  {
   "cell_type": "code",
   "execution_count": 9,
   "metadata": {
    "colab": {
     "base_uri": "https://localhost:8080/"
    },
    "id": "QKHplpr-NW6j",
    "outputId": "8080813d-a951-4e8e-b842-e165fd82990a"
   },
   "outputs": [
    {
     "data": {
      "text/plain": [
       "['Artificial intelligence',\n",
       " 'Generative artificial intelligence',\n",
       " 'Artificial general intelligence',\n",
       " 'A.I. Artificial Intelligence',\n",
       " 'Applications of artificial intelligence',\n",
       " 'Hallucination (artificial intelligence)',\n",
       " 'History of artificial intelligence',\n",
       " 'Ethics of artificial intelligence',\n",
       " 'Artificial intelligence art',\n",
       " 'Artificial intelligence in healthcare']"
      ]
     },
     "execution_count": 9,
     "metadata": {},
     "output_type": "execute_result"
    }
   ],
   "source": [
    "wikipedia.search(page_title)"
   ]
  },
  {
   "cell_type": "code",
   "execution_count": 10,
   "metadata": {
    "id": "zvYlwT9YE6Mk"
   },
   "outputs": [],
   "source": [
    "search_results = wikipedia.search(page_title)"
   ]
  },
  {
   "cell_type": "code",
   "execution_count": 11,
   "metadata": {
    "id": "1VFOcvwCFGBa"
   },
   "outputs": [],
   "source": [
    "page = wikipedia.page(search_results[0])"
   ]
  },
  {
   "cell_type": "code",
   "execution_count": 12,
   "metadata": {
    "id": "Ef7yfa2jl0iZ"
   },
   "outputs": [],
   "source": [
    "# page.content\n",
    "def get_wikipedia_content(page_title):\n",
    "  search_results = wikipedia.search(page_title)\n",
    "  page = wikipedia.page(search_results[0])\n",
    "  return(page.content)"
   ]
  },
  {
   "cell_type": "code",
   "execution_count": 13,
   "metadata": {
    "id": "H_LP31izOILm"
   },
   "outputs": [],
   "source": [
    "content = get_wikipedia_content(page_title)"
   ]
  },
  {
   "cell_type": "markdown",
   "metadata": {
    "id": "_9aruncMmubX"
   },
   "source": [
    "# 3.) Build a chatgpt bot that will analyze the text given and try to locate any false info"
   ]
  },
  {
   "cell_type": "code",
   "execution_count": 20,
   "metadata": {
    "id": "Bmai3B6Dmw3O"
   },
   "outputs": [],
   "source": [
    "chat_completions = client.chat.completions.create(\n",
    "    model = \"gpt-4\",\n",
    "    messages = [\n",
    "        {\"role\" : \"system\", \"content\" : \"I will be giving you an article. I am looking for false information. I want to capture all potentially false info, if there is even small potential for it to be wrong, please return it. Please concisely list only the false information found. If there is no flase information only return 'DONE'\"},\n",
    "        {\"role\" : \"user\", \"content\" : content[:8180]}]\n",
    ")"
   ]
  },
  {
   "cell_type": "code",
   "execution_count": 21,
   "metadata": {
    "colab": {
     "base_uri": "https://localhost:8080/",
     "height": 286
    },
    "id": "TLC7aW_hOEem",
    "outputId": "aeb97d8d-40da-4454-9891-2b22cc56664e"
   },
   "outputs": [
    {
     "data": {
      "application/vnd.google.colaboratory.intrinsic+json": {
       "type": "string"
      },
      "text/plain": [
       "'1. \"Alan Turing was the first person to conduct substantial research in the field that he called machine intelligence.\" - This is potentially false, as even though Alan Turing made significant contributions to the field, it may not be accurate to call him the first person to conduct substantial research in the field, as other researchers were also making contributions around the same time.\\n2. \"Artificial intelligence was founded as an academic discipline in 1956.\" - This can be argued as the studies and theories that contributed to what we know today as AI have been developed years (even decades) before 1956.\\n3. \"Funding and interest vastly increased after 2012 when deep learning surpassed all previous AI techniques, and after 2017 with the transformer architecture.\" - This statement seems definitive and might not be entirely correct as the interest and funding in AI could increase due to various other factors and not solely based on the advancements in deep learning and transformer architecture.\\n4. \"This led to the AI spring of the early 2020s, with companies, universities, and laboratories overwhelmingly based in the United States pioneering significant advances in artificial intelligence.\" - This statement implies that the significant advances in AI are overwhelmingly based in the United States which may not represent the global nature of AI advancements accurately.\\n5. \"The general problem of simulating (or creating) intelligence has been broken into sub-problems.\" - It might be an oversimplification to suggest that the challenge of simulating or creating intelligence has been \"broken into sub-problems\". It may also imply an organized, globally-accepted approach that may not be the case.\\n6. \"An \"agent\" is anything that perceives and takes actions in the world.\" - False, as in AI context, an agent is generally a component that perceives its environment and takes actions that maximize its chance of success at some goal. It doesn\\'t have to perceive and take actions in the \\'world\\' necessarily.\\n7. \"In classical planning, the agent knows exactly what the effect of any action will be.\" - Potentially false, as even in classical planning, there may not be certainty about the effects of each action.'"
      ]
     },
     "execution_count": 21,
     "metadata": {},
     "output_type": "execute_result"
    }
   ],
   "source": [
    "chat_completions.choices[0].message.content"
   ]
  },
  {
   "cell_type": "code",
   "execution_count": 22,
   "metadata": {
    "colab": {
     "base_uri": "https://localhost:8080/"
    },
    "id": "zT-VvjmCHYNT",
    "outputId": "b12c1158-bfeb-48ca-bf3c-7a4f1059e359"
   },
   "outputs": [
    {
     "name": "stdout",
     "output_type": "stream",
     "text": [
      "1. \"Alan Turing was the first person to conduct substantial research in the field that he called machine intelligence.\" - This is potentially false, as even though Alan Turing made significant contributions to the field, it may not be accurate to call him the first person to conduct substantial research in the field, as other researchers were also making contributions around the same time.\n",
      "2. \"Artificial intelligence was founded as an academic discipline in 1956.\" - This can be argued as the studies and theories that contributed to what we know today as AI have been developed years (even decades) before 1956.\n",
      "3. \"Funding and interest vastly increased after 2012 when deep learning surpassed all previous AI techniques, and after 2017 with the transformer architecture.\" - This statement seems definitive and might not be entirely correct as the interest and funding in AI could increase due to various other factors and not solely based on the advancements in deep learning and transformer architecture.\n",
      "4. \"This led to the AI spring of the early 2020s, with companies, universities, and laboratories overwhelmingly based in the United States pioneering significant advances in artificial intelligence.\" - This statement implies that the significant advances in AI are overwhelmingly based in the United States which may not represent the global nature of AI advancements accurately.\n",
      "5. \"The general problem of simulating (or creating) intelligence has been broken into sub-problems.\" - It might be an oversimplification to suggest that the challenge of simulating or creating intelligence has been \"broken into sub-problems\". It may also imply an organized, globally-accepted approach that may not be the case.\n",
      "6. \"An \"agent\" is anything that perceives and takes actions in the world.\" - False, as in AI context, an agent is generally a component that perceives its environment and takes actions that maximize its chance of success at some goal. It doesn't have to perceive and take actions in the 'world' necessarily.\n",
      "7. \"In classical planning, the agent knows exactly what the effect of any action will be.\" - Potentially false, as even in classical planning, there may not be certainty about the effects of each action.\n"
     ]
    }
   ],
   "source": [
    "print(chat_completions.choices[0].message.content)"
   ]
  },
  {
   "cell_type": "code",
   "execution_count": 32,
   "metadata": {
    "id": "1jI-un5PnDjg"
   },
   "outputs": [],
   "source": [
    "def chatgpt_error_correction(text):\n",
    "  chat_completions = client.chat.completions.create(\n",
    "    model = \"gpt-4\",\n",
    "    messages = [\n",
    "        {\"role\" : \"system\", \"content\" : \"I will be giving you an article. I am looking for false information. I want to capture all potentially false info, if there is even small potential for it to be wrong, please return it. Please concisely list only the false information found. If there is no flase information only return 'DONE'\"},\n",
    "        {\"role\" : \"user\", \"content\" : text[:8180]}]\n",
    "  )\n",
    "  print(chat_completions.choices[0].message.content)"
   ]
  },
  {
   "cell_type": "markdown",
   "metadata": {
    "id": "zPw5LyPEobmk"
   },
   "source": [
    "# 4.) Make a for loop and check a few wikipedia pages and return a report of any potentially false info via wikipedia"
   ]
  },
  {
   "cell_type": "code",
   "execution_count": 33,
   "metadata": {
    "id": "V7cuhML2ocGn"
   },
   "outputs": [],
   "source": [
    "page_titles = [\"Artificial Intelligence\", \"UCLA\", \"Rain\"]"
   ]
  },
  {
   "cell_type": "code",
   "execution_count": 34,
   "metadata": {
    "colab": {
     "base_uri": "https://localhost:8080/"
    },
    "id": "A54mdxngRY_k",
    "outputId": "1f861a92-e99d-43ae-b71b-7e06b2171462"
   },
   "outputs": [
    {
     "name": "stdout",
     "output_type": "stream",
     "text": [
      "________Artificial Intelligence\n",
      "1. \"AI technology is widely used throughout industry, government, and science.\" - This is partly false as it depends on the definition of AI technology. While some forms of AI are used throughout these sectors, not all forms of AI are used widely across all industries, governments, or branches of science. \n",
      "2. \"Alan Turing was the first person to conduct substantial research in the field that he called machine intelligence.\" - This is potentially false information as, although Alan Turing was a pioneer in the field of AI, it could be claimed that others like John McCathy, Allen Newell, or Herbert Simon might have conducted substantial research before or simultaneously. \n",
      "3. \"Funding and interest vastly increased after 2012 when deep learning surpassed all previous AI techniques, and after 2017 with the transformer architecture.\" - The information that deep learning surpassed all previous AI techniques in 2012 can be considered as false as it's more of an opinion rather than verifiable fact. Different AI techniques may excel in various areas and it's not universally agreed upon that deep learning is superior to all other techniques.\n",
      "4. \"The field's long-term goals ... ability to complete any task performable by a human.\" - This is potentially false information as it may not be a universal goal among all AI researchers or for the entire field. AI research goals vary greatly.\n",
      "5. \"Knowledge bases need to represent things such as ... default reasoning\" - This claim is not entirely accurate as some knowledge bases may not hold such broad information or be created to represent such things depending on their application.\n",
      "6. \"In some problems, the agent's preferences may be uncertain, especially if there are other agents or humans involved.\" - This statement might be false as it depends on the design and objectives of the agent. Some AI agents are designed with specific, fixed preferences. \n",
      "7. \"A Markov decision process ... reward function that supplies the utility of each state and the cost of each action.\" - This information can be false as not all Markov Decision Processes employ a 'cost' related to each action, it might be more accurate to talk about a 'reward' instead. \n",
      "8. \"Machine learning is the study of programs that can improve their performance on a given task automatically. It has been a part of AI from the beginning.\" - Potentially false statement. Machine learning has been a part of AI development but wasn't necessarily included from the very beginning.\n",
      "9. \"Unsupervised learning analyzes a stream of data and finds patterns and makes predictions without any other guidance.\" - This sentence is partially false, as unsupervised learning can find patterns, but making predictions typically falls under the realm of supervised learning.\n",
      "________UCLA\n",
      "1. UCLA's academic roots being established in 1881 as a normal school known as the southern branch of the California State Normal School. It actually became an independent entity known as the Los Angeles State Normal School in 1887 before eventually merging with UC in 1919.\n",
      "2. UCLA being the second-oldest campus in the UC system after UC Berkeley. Upon these two campuses' establishment, Cal was already functioning as a university, while the LA campus was a teacher training school.\n",
      "3. UCLA enrolling about 31,600 undergraduate and 14,300 graduate and professional students annually. The actual number is approximately 44,000 undergraduates and 28,000 graduates annually.\n",
      "4. UCLA's three graduate-level professional health science schools are Medicine, Dentistry, and Public Health. The university also has a school of Nursing, which offers advanced degrees.\n",
      "5. UCLA's athletic teams have won 121 NCAA team championships. As of 2021, they have won 118.\n",
      "6. UCLA has been represented in every Olympics since the university's founding except in 1924. The university was founded in 1919, while the Summer Olympics were held in 1920 and 1924.\n",
      "7. UCLA having a gold medalist in every Olympics in which the U.S. has participated since 1932. While the university does have a consistent history of Olympic success, it is highly unlikely to have had an affiliated gold medalist in every single Olympics.\n",
      "8. UCLA having been considered a Public Ivy. The term \"Public Ivy\" wasn't coined until 1985 by Richard Moll.\n",
      "9. 27 Nobel laureates, five Turing Award winners, two Chief Scientists of the U.S. Air Force and one Fields Medalist have been affiliated with UCLA as faculty, researchers, and alumni. Numbers for Nobel laureates and other award winners being affiliated can vary depending on the affiliations considered.\n",
      "10. The new \"Beverly Site\" for UCLA being announced in 1925. The site of the currently existing campus in Westwood was announced in 1927.\n",
      "11. UCLA's original Vermont Avenue campus outgrowing its 25 acre location by the mid-1920s. The Vermont Avenue campus was approximately 20 acres, not 25, and the new Westwood campus wasn't purchased until 1926.\n",
      "12. The first undergraduate classes on the new campus being held in 1929 with 5,500 students. The actual number of students at the time of the campus' opening was around 4,000.\n",
      "13. Franklin David Murphy being appointed as Chancellor in 1960, sparking an era of tremendous growth for UCLA. Murphy didn't become Chancellor until 1961.\n",
      "14. In February 2022, Matthew Harris, a former lecturer and postdoc at UCLA, was arrested after allegedly making threats of violence against students and faculty members of UCLA's Philosophy Department. The threats happened in February 2022, but Harris was not arrested until March 2022.\n",
      "15. In 2022, UCLA signed an agreement to partner with the Tongva for caretaking and landscaping various areas of the campus. As of now, no such agreement is publicly known or announced.\n",
      "________Rain\n",
      "1. The article states that the steam locomotive was invented in the United Kingdom in 1802, but the first full-scale working railway steam locomotive was built in the UK by George Stephenson in 1814.\n",
      "2. The article states that that the first ever steam train was powered by a steam locomotive built by Richard Trevithick in 1804. While Trevithick did build the first railway steam locomotive in 1804, the first full-scale working railway steam locomotive was built by George Stephenson in 1814.\n",
      "3. The article incorrectly states that the rapid transit and trams were built in the late 1800s, while the first full-scale working railway steam locomotives for public passenger transit were built in the early 1800s.\n",
      "4. It is mentioned that trains entered service in South America, Africa, and Asia through construction by imperial powers starting in the 1840s. Yet, the first railway in Africa was the Alexandria-Cairo line, which opened in 1856, later than stated.\n",
      "5. The article incorrectly states that steam locomotives were used to haul mainline trains as late as 2005 in Inner Mongolia, China. There is no evidence to support the claim that steam locomotives were in mainstream operation during this time.\n"
     ]
    }
   ],
   "source": [
    "for page_title in page_titles:\n",
    "  try:\n",
    "    print(\"________\"+page_title)\n",
    "    content = get_wikipedia_content(page_title)\n",
    "    chatgpt_error_correction(content)\n",
    "  except:\n",
    "    print(\"ERROR\")"
   ]
  }
 ],
 "metadata": {
  "colab": {
   "provenance": []
  },
  "kernelspec": {
   "display_name": "Python 3 (ipykernel)",
   "language": "python",
   "name": "python3"
  },
  "language_info": {
   "codemirror_mode": {
    "name": "ipython",
    "version": 3
   },
   "file_extension": ".py",
   "mimetype": "text/x-python",
   "name": "python",
   "nbconvert_exporter": "python",
   "pygments_lexer": "ipython3",
   "version": "3.11.4"
  }
 },
 "nbformat": 4,
 "nbformat_minor": 1
}
